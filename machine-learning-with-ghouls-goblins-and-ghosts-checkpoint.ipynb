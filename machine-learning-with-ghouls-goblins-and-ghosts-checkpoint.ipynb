{
 "cells": [
  {
   "cell_type": "markdown",
   "metadata": {
    "_cell_guid": "25b8c54c-9c8d-4677-ad90-f04843219d62",
    "_uuid": "2ed3f621882db2d8dd6834285561c2de2b9c3744"
   },
   "source": [
    "### Here is a simple MachineLearning notebook for beginners. The notebook includes:\n",
    "1. #### Feature Engineering\n",
    "2. #### Visualization\n",
    "3. #### Voting Classifier"
   ]
  },
  {
   "cell_type": "code",
   "execution_count": null,
   "metadata": {
    "_cell_guid": "2c84d742-66ed-4cba-bb85-fdebecdf8b28",
    "_uuid": "345d9f4d89032a766497dd8481e2831ca10a1ba6"
   },
   "outputs": [],
   "source": [
    "# Import the required libraries\n",
    "import numpy as np # linear algebra\n",
    "import pandas as pd # data processing, CSV file I/O (e.g. pd.read_csv)\n",
    "\n",
    "from matplotlib import pyplot as plt\n",
    "%matplotlib inline\n",
    "import seaborn as sns\n",
    "\n",
    "from sklearn import preprocessing\n",
    "from sklearn import metrics\n",
    "from sklearn.model_selection import train_test_split\n",
    "from sklearn.model_selection import GridSearchCV\n",
    "\n",
    "from sklearn.tree import DecisionTreeClassifier\n",
    "\n",
    "from sklearn.ensemble import VotingClassifier\n",
    "from sklearn.ensemble import RandomForestClassifier\n",
    "from sklearn.ensemble import BaggingClassifier\n",
    "from sklearn.ensemble import GradientBoostingClassifier\n",
    "from sklearn.neighbors import KNeighborsClassifier\n",
    "from sklearn.linear_model import LogisticRegression\n",
    "from sklearn.svm import SVC\n",
    "\n",
    "import warnings\n",
    "warnings.filterwarnings(\"ignore\")"
   ]
  },
  {
   "cell_type": "markdown",
   "metadata": {
    "_cell_guid": "2e0b509d-eee4-4046-b6d8-22fa9a3a45ac",
    "_uuid": "c0d5d145bf104fb14f4971c1ba91fc650245eb07"
   },
   "source": [
    "Below we will import the data for this project. There are 2 data files:\n",
    "- train.csv -> Contains the training data.\n",
    "- test.csv -> Contains the testing data for which we have to predict the category."
   ]
  },
  {
   "cell_type": "code",
   "execution_count": null,
   "metadata": {
    "_cell_guid": "cf0b7d9e-4219-4995-bc57-728277739173",
    "_uuid": "c6e158516872bcf0f6db979daeb06f3f1d77c8e5"
   },
   "outputs": [],
   "source": [
    "train_data_orig = pd.read_csv('../input/train.csv')\n",
    "test_data_orig = pd.read_csv('../input/test.csv')"
   ]
  },
  {
   "cell_type": "markdown",
   "metadata": {
    "_cell_guid": "3ce2596c-9830-47c5-9f28-e7e6d9fa809c",
    "_uuid": "bd22bb4fab6710ce2b44d5364d1b24470a513e99"
   },
   "source": [
    "We will print the shape of train and test dataframes to get a view of the number of columns and rows."
   ]
  },
  {
   "cell_type": "code",
   "execution_count": null,
   "metadata": {
    "_cell_guid": "b5a22ad6-fe3d-40f2-9950-951e6fe01bdb",
    "_uuid": "c4d56563a6e09d89158baba28265119c7ae1e6de"
   },
   "outputs": [],
   "source": [
    "print(\"Shape of Training Data\")\n",
    "print(train_data_orig.shape)\n",
    "print(\"\\n\")\n",
    "\n",
    "print(\"Shape of Testing Data\")\n",
    "print(test_data_orig.shape)"
   ]
  },
  {
   "cell_type": "markdown",
   "metadata": {
    "_cell_guid": "569a9a51-e302-413f-a21a-95bc2a1dc6d9",
    "_uuid": "db064a97e526f0437e086dbe2ae54a67ff872ecb"
   },
   "source": [
    "Below we will print the columns present in Training and Testing data."
   ]
  },
  {
   "cell_type": "code",
   "execution_count": null,
   "metadata": {
    "_cell_guid": "b699ec8c-5f1e-4d78-94da-8bed4a076a15",
    "_uuid": "7e96311fa95c6520f63a763cb9badc43b9f828cc"
   },
   "outputs": [],
   "source": [
    "print(\"Columns in Training Data\")\n",
    "print(train_data_orig.columns)\n",
    "print(\"\\n\")\n",
    "\n",
    "print(\"Columns in Testing Data\")\n",
    "print(test_data_orig.columns)"
   ]
  },
  {
   "cell_type": "markdown",
   "metadata": {
    "_cell_guid": "4f2aa252-053f-479f-92ae-85e4c51abd85",
    "_uuid": "24461ff7099951c3e999dd4d16f543385c5d4bc0"
   },
   "source": [
    "From the above details we could clearly see that based on the independet features 'bone_length', 'rotting_flesh', 'hair_length', 'has_soul' and 'color' we have to predict the dependent variable - 'type'."
   ]
  },
  {
   "cell_type": "code",
   "execution_count": null,
   "metadata": {
    "_cell_guid": "1816423a-15a6-41fb-899f-40dd4527b895",
    "_uuid": "f57fdcea2c425561e87602426bfa67f2185b649f"
   },
   "outputs": [],
   "source": [
    "train_data_orig.info()"
   ]
  },
  {
   "cell_type": "code",
   "execution_count": null,
   "metadata": {
    "_cell_guid": "3cb67a8c-6ca3-43be-9d6f-080a77904765",
    "_uuid": "93d1ea04aff50c81c9fbe406902c353a8055ca21"
   },
   "outputs": [],
   "source": [
    "train_data_orig.head()"
   ]
  },
  {
   "cell_type": "markdown",
   "metadata": {
    "_cell_guid": "3a691b1a-985f-4417-becd-dff2d3e8e876",
    "_uuid": "1877838f8c4b2d6b8e5d563cf4e632078a8acbb0"
   },
   "source": [
    "Drop the 'id' column from train and test data as it is not required."
   ]
  },
  {
   "cell_type": "code",
   "execution_count": null,
   "metadata": {
    "_cell_guid": "ca6d4ffe-3632-4805-a06a-dd3d78e1a064",
    "_uuid": "ad97956dbb3b310c6ab9aa63f4df5ebe9ecc9ad8"
   },
   "outputs": [],
   "source": [
    "train_data = train_data_orig.drop(['id'], axis = 1)\n",
    "test_data = test_data_orig.drop(['id'], axis = 1)"
   ]
  },
  {
   "cell_type": "markdown",
   "metadata": {
    "_cell_guid": "3cfec49d-31a5-4f62-a262-3d5f61a95bd1",
    "_uuid": "50fd3218831a5d4907b4e545c2cd69c7f9c5398a"
   },
   "source": [
    "From the above information we colud see that 'bone_length', 'rotting_flesh', 'hair_length' and 'has_soul' are float values. 'color' and 'type' have categorical values. Below, we will try to get more about each of the columns."
   ]
  },
  {
   "cell_type": "code",
   "execution_count": null,
   "metadata": {
    "_cell_guid": "1f9b981e-77c0-456a-acbb-a216c4c21c5a",
    "_uuid": "043315b62e3a8fda18c55dded4d70a07559896ab"
   },
   "outputs": [],
   "source": [
    "train_data.describe()"
   ]
  },
  {
   "cell_type": "code",
   "execution_count": null,
   "metadata": {
    "_cell_guid": "c7ad8514-029d-486a-87d4-a6367a438014",
    "_uuid": "8b99772d6c2505c08c33e3d558aecb7fc16a44cd"
   },
   "outputs": [],
   "source": [
    "test_data.describe()"
   ]
  },
  {
   "cell_type": "code",
   "execution_count": null,
   "metadata": {
    "_cell_guid": "522e0175-a08a-41b2-84b4-6e3f8d5948c0",
    "_uuid": "bc7e21be512f8c37369341d3341164cb01c0621c"
   },
   "outputs": [],
   "source": [
    "print(np.sort(train_data['color'].unique()))\n",
    "print(np.sort(test_data['color'].unique()))"
   ]
  },
  {
   "cell_type": "code",
   "execution_count": null,
   "metadata": {
    "_cell_guid": "5ad675a8-e356-4d36-ade7-b117d2a0c6f3",
    "_uuid": "fa4fd6043baed7fbb490c0c6adda8bcd7dfdc4c2"
   },
   "outputs": [],
   "source": [
    "print(np.sort(train_data['type'].unique()))"
   ]
  },
  {
   "cell_type": "markdown",
   "metadata": {
    "_cell_guid": "b9b009e7-7c65-40a3-b4c8-10c918b5c2d3",
    "_uuid": "505053488790ece8b845ad3a43e9d137854bd626"
   },
   "source": [
    "The data looks good without any missing values. As we have got some details about our data we will do a bit more of analysis using some visualizations."
   ]
  },
  {
   "cell_type": "code",
   "execution_count": null,
   "metadata": {
    "_cell_guid": "42968563-fb30-4fbb-9cf3-4252bc9c5833",
    "_uuid": "82ff519059025951a3de5ed574ebfc38b2e27184"
   },
   "outputs": [],
   "source": [
    "# Use LabelEncoder for the 'color' feature\n",
    "color_le = preprocessing.LabelEncoder()\n",
    "color_le.fit(train_data['color'])\n",
    "train_data['color_int'] = color_le.transform(train_data['color'])\n",
    "\n",
    "_ = sns.pairplot(train_data.drop('color', axis = 1), hue = 'type', palette = 'muted', diag_kind='kde')\n",
    "\n",
    "train_data.drop('color_int', axis = 1, inplace = True)"
   ]
  },
  {
   "cell_type": "markdown",
   "metadata": {
    "_cell_guid": "d71233b5-cfb2-4588-ba14-f0ff42fa4563",
    "_uuid": "ca3989a1628fe29a328cbffaafa46fb92253e0e9"
   },
   "source": [
    "Show the correlation between each of the features via a heatmap."
   ]
  },
  {
   "cell_type": "code",
   "execution_count": null,
   "metadata": {
    "_cell_guid": "1bc31126-4e9f-4796-bfbc-2da089433a69",
    "_uuid": "980abdf6f3d7608b3c463c0f2f619764a60de5e7"
   },
   "outputs": [],
   "source": [
    "_ = sns.heatmap(train_data.corr(), annot = True, fmt = \".2f\", cmap = 'YlGnBu')"
   ]
  },
  {
   "cell_type": "code",
   "execution_count": null,
   "metadata": {
    "_cell_guid": "2e0d0654-9803-4f44-a229-cb94a39a4c18",
    "_uuid": "88d458cc410b6da2b3a56e4f65f4503b92f13b1f"
   },
   "outputs": [],
   "source": [
    "g = sns.FacetGrid(pd.melt(train_data, id_vars='type', value_vars = ['bone_length', 'rotting_flesh', 'hair_length', 'has_soul']), col = 'type')\n",
    "g = g.map(sns.boxplot, 'value', 'variable', palette = 'muted')"
   ]
  },
  {
   "cell_type": "markdown",
   "metadata": {
    "_cell_guid": "49492b25-0f16-45ad-917f-2dce2e5f12e0",
    "_uuid": "ec44d806b7891ed7b550d005e4734651953a20a1"
   },
   "source": [
    "We will create a DecisionTreeClassifier which will serve as a base classifier for comapring the accuracy with our future models."
   ]
  },
  {
   "cell_type": "code",
   "execution_count": null,
   "metadata": {
    "_cell_guid": "aad5c84d-847e-4b25-9a38-29bc788ef47b",
    "_uuid": "67a2519cb5ebe116781cc28a4c7531b910ecdeb0"
   },
   "outputs": [],
   "source": [
    "df = pd.get_dummies(train_data.drop('type', axis = 1))\n",
    "X_train, X_test, y_train, y_test = train_test_split(df, train_data['type'], test_size = 0.25, random_state = 0)\n",
    "\n",
    "dt_clf = DecisionTreeClassifier(random_state = 0)\n",
    "dt_clf.fit(X_train, y_train)\n",
    "y_pred = dt_clf.predict(X_test)\n",
    "\n",
    "print(metrics.classification_report(y_test, y_pred))\n",
    "print(\"\\nAccuracy Score is: \" + str(metrics.accuracy_score(y_test, y_pred)))"
   ]
  },
  {
   "cell_type": "code",
   "execution_count": null,
   "metadata": {
    "_cell_guid": "b3255513-e74d-4ba3-be7f-080da05ae5a3",
    "_uuid": "25a83082be882e5770671dda99169279ad7a4ea1"
   },
   "outputs": [],
   "source": [
    "accuracy_scorer = metrics.make_scorer(metrics.accuracy_score)"
   ]
  },
  {
   "cell_type": "code",
   "execution_count": null,
   "metadata": {
    "_cell_guid": "84cc9556-68fd-4767-aae2-1259e5e544db",
    "_uuid": "c2c77a6169a72cd6a5484d2bb27c44734d8abf5f"
   },
   "outputs": [],
   "source": [
    "X_train = pd.get_dummies(train_data.drop('type', axis = 1))\n",
    "y_train = train_data['type']\n",
    "X_test = pd.get_dummies(test_data)"
   ]
  },
  {
   "cell_type": "code",
   "execution_count": null,
   "metadata": {
    "_cell_guid": "71c63de8-ec5a-46f8-bcbd-924696e62b92",
    "_uuid": "ab2c1bce4934c5aefe7170bc41e44180dd38093e"
   },
   "outputs": [],
   "source": [
    "params = {'n_estimators':[10, 20, 50, 100], 'criterion':['gini', 'entropy'], 'max_depth':[None, 5, 10, 25, 50]}\n",
    "rf = RandomForestClassifier(random_state = 0)\n",
    "clf = GridSearchCV(rf, param_grid = params, scoring = accuracy_scorer, cv = 5, n_jobs = -1)\n",
    "clf.fit(X_train, y_train)\n",
    "print('Best score: {}'.format(clf.best_score_))\n",
    "print('Best parameters: {}'.format(clf.best_params_))\n",
    "\n",
    "rf_best = RandomForestClassifier(n_estimators = 10, random_state = 0)"
   ]
  },
  {
   "cell_type": "code",
   "execution_count": null,
   "metadata": {
    "_cell_guid": "6c137ad0-f86b-494d-ba8d-b664b23b1545",
    "_uuid": "33584ce29e42eb3e7331f081c5ab7cd84513f127"
   },
   "outputs": [],
   "source": [
    "params = {'n_estimators':[10, 25, 50, 100], 'max_samples':[1, 3, 5, 10]}\n",
    "bag = BaggingClassifier(random_state = 0)\n",
    "clf = GridSearchCV(bag, param_grid = params, scoring = accuracy_scorer, cv = 5, n_jobs = -1)\n",
    "clf.fit(X_train, y_train)\n",
    "print('Best score: {}'.format(clf.best_score_))\n",
    "print('Best parameters: {}'.format(clf.best_params_))\n",
    "\n",
    "bag_best = BaggingClassifier(max_samples = 5, n_estimators = 25, random_state = 0)"
   ]
  },
  {
   "cell_type": "code",
   "execution_count": null,
   "metadata": {
    "_cell_guid": "1f740394-75ee-4fd3-bef9-aee0b2903f22",
    "_uuid": "b03470ced09e3e35529eba4be92a31d5fb6a2094"
   },
   "outputs": [],
   "source": [
    "params = {'learning_rate':[0.05, 0.1, 0.5], 'n_estimators':[100, 200, 500], 'max_depth':[2, 3, 5, 10]}\n",
    "gbc = GradientBoostingClassifier(random_state = 0)\n",
    "clf = GridSearchCV(gbc, param_grid = params, scoring = accuracy_scorer, cv = 5, n_jobs = -1)\n",
    "clf.fit(X_train, y_train)\n",
    "print('Best score: {}'.format(clf.best_score_))\n",
    "print('Best parameters: {}'.format(clf.best_params_))\n",
    "\n",
    "gbc_best = GradientBoostingClassifier(learning_rate = 0.1, max_depth = 5, n_estimators = 100, random_state = 0)"
   ]
  },
  {
   "cell_type": "code",
   "execution_count": null,
   "metadata": {
    "_cell_guid": "278a5745-e951-4365-a004-5707d45daba1",
    "_uuid": "aeb5b3f3071dedaa8748d89ca4564b4c2d09df71"
   },
   "outputs": [],
   "source": [
    "params = {'n_neighbors':[3, 5, 10, 20], 'leaf_size':[20, 30, 50], 'p':[1, 2, 5], 'weights':['uniform', 'distance']}\n",
    "knc = KNeighborsClassifier()\n",
    "clf = GridSearchCV(knc, param_grid = params, scoring = accuracy_scorer, cv = 5, n_jobs = -1)\n",
    "clf.fit(X_train, y_train)\n",
    "print('Best score: {}'.format(clf.best_score_))\n",
    "print('Best parameters: {}'.format(clf.best_params_))\n",
    "\n",
    "knc_best = KNeighborsClassifier(n_neighbors = 10)"
   ]
  },
  {
   "cell_type": "code",
   "execution_count": null,
   "metadata": {
    "_cell_guid": "8cb67317-0398-4271-95e6-5cba518c8046",
    "_uuid": "333c68f993d195a2210e200806255ff3805eb6c7"
   },
   "outputs": [],
   "source": [
    "params = {'penalty':['l1', 'l2'], 'C':[1, 2, 3, 5, 10]}\n",
    "lr = LogisticRegression(random_state = 0)\n",
    "clf = GridSearchCV(lr, param_grid = params, scoring = accuracy_scorer, cv = 5, n_jobs = -1)\n",
    "clf.fit(X_train, y_train)\n",
    "print('Best score: {}'.format(clf.best_score_))\n",
    "print('Best parameters: {}'.format(clf.best_params_))\n",
    "\n",
    "lr_best = LogisticRegression(penalty = 'l1', C = 1, random_state = 0)"
   ]
  },
  {
   "cell_type": "code",
   "execution_count": null,
   "metadata": {
    "_cell_guid": "9ef14503-6969-4773-81a3-89526e30e340",
    "_uuid": "29084ecf0f2a3469f4185ebfdad53875dbfe7f0d"
   },
   "outputs": [],
   "source": [
    "params = {'kernel':['linear', 'rbf'], 'C':[1, 3, 5, 10], 'degree':[3, 5, 10]}\n",
    "svc = SVC(probability = True, random_state = 0)\n",
    "clf = GridSearchCV(svc, param_grid = params, scoring = accuracy_scorer, cv = 5, n_jobs = -1)\n",
    "clf.fit(X_train, y_train)\n",
    "print('Best score: {}'.format(clf.best_score_))\n",
    "print('Best parameters: {}'.format(clf.best_params_))\n",
    "\n",
    "svc_best = SVC(C = 10, degree = 3, kernel = 'linear', probability = True, random_state = 0)"
   ]
  },
  {
   "cell_type": "code",
   "execution_count": null,
   "metadata": {
    "_cell_guid": "37f13290-296d-4b8a-bc30-01503338f564",
    "_uuid": "c2a55fc95ada268eab95ada6bae9fa1f2955db0d"
   },
   "outputs": [],
   "source": [
    "voting_clf = VotingClassifier(estimators=[('rf', rf_best), ('bag', bag_best), ('gbc', gbc_best), ('lr', lr_best), ('svc', svc_best)]\n",
    "                              , voting='hard')\n",
    "voting_clf.fit(X_train, y_train)\n",
    "y_pred = voting_clf.predict(X_test)\n",
    "print(\"\\nAccuracy Score for VotingClassifier is: \" + str(voting_clf.score(X_train, y_train)))"
   ]
  },
  {
   "cell_type": "code",
   "execution_count": null,
   "metadata": {
    "_cell_guid": "9ce19c3d-079b-437a-ab8c-620455d4c6c9",
    "_uuid": "ef2d8021f9e9ba509572cdfee3c48e4566dcbd7a"
   },
   "outputs": [],
   "source": [
    "submission = pd.DataFrame({'id':test_data_orig['id'], 'type':y_pred})\n",
    "submission.to_csv('../working/submission.csv', index=False)"
   ]
  },
  {
   "cell_type": "markdown",
   "metadata": {
    "_cell_guid": "4473109b-2804-4416-ab61-eaf77488abaf",
    "_uuid": "1019d48cf71c4b0b34bc0d0290b6a17e099ef867"
   },
   "source": [
    "The above code gets a LB score of 0.73345."
   ]
  }
 ],
 "metadata": {
  "kernelspec": {
   "display_name": "Python 3",
   "language": "python",
   "name": "python3"
  },
  "language_info": {
   "codemirror_mode": {
    "name": "ipython",
    "version": 3
   },
   "file_extension": ".py",
   "mimetype": "text/x-python",
   "name": "python",
   "nbconvert_exporter": "python",
   "pygments_lexer": "ipython3",
   "version": "3.7.1"
  }
 },
 "nbformat": 4,
 "nbformat_minor": 1
}
